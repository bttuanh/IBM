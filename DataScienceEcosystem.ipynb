{
 "cells": [
  {
   "cell_type": "markdown",
   "id": "de0d4dfb-fc6c-45cf-82b4-b58b2eb402ea",
   "metadata": {},
   "source": [
    "# Data Science Tools and Ecosystem\n"
   ]
  },
  {
   "cell_type": "markdown",
   "id": "989c3a6e-bfae-43a1-8c59-2a73d3e043fa",
   "metadata": {},
   "source": [
    "In this notebook, Data Science Tools and Ecosystem are summarized.\n"
   ]
  },
  {
   "cell_type": "markdown",
   "id": "8671cc57-8411-47db-bdd8-84df4573980a",
   "metadata": {},
   "source": [
    "Some of the popular languages that Data Scientists use are:\n",
    "\n",
    "1. Python\n",
    "2. R\n",
    "3. SQL\n",
    "4. Julia\n"
   ]
  },
  {
   "cell_type": "markdown",
   "id": "25a36a17-db49-4c60-96c6-c7f6c81bc205",
   "metadata": {},
   "source": [
    "Some of the commonly used libraries used by Data Scientists include:\n",
    "\n",
    "1. pandas\n",
    "2. numpy\n",
    "3. matplotlib\n",
    "4. scikit-learn\n"
   ]
  },
  {
   "cell_type": "markdown",
   "id": "8340088a-120d-4322-b685-6e48b7e8e689",
   "metadata": {},
   "source": [
    "| Data Science Tools |\n",
    "|:------------------:|\n",
    "| JupyterLab         |\n",
    "| VSCode             |\n",
    "| Spyder             |\n"
   ]
  },
  {
   "cell_type": "markdown",
   "id": "b22dfb39-e4f4-474d-b3ae-6e8ce41e0db4",
   "metadata": {},
   "source": [
    "### Below are a few examples of evaluating arithmetic expressions in Python.\n"
   ]
  },
  {
   "cell_type": "code",
   "execution_count": 9,
   "id": "f2b0ca6c-f36b-430e-9de4-e1f72f7a880d",
   "metadata": {},
   "outputs": [
    {
     "data": {
      "text/plain": [
       "17"
      ]
     },
     "execution_count": 9,
     "metadata": {},
     "output_type": "execute_result"
    }
   ],
   "source": [
    "# This is a simple arithmetic expression to multiply then add integers\n",
    "result = (3 * 4) + 5\n",
    "result\n"
   ]
  },
  {
   "cell_type": "code",
   "execution_count": 11,
   "id": "22084ee5-cfb0-49c3-a166-9b8d907475a5",
   "metadata": {},
   "outputs": [
    {
     "data": {
      "text/plain": [
       "3.3333333333333335"
      ]
     },
     "execution_count": 11,
     "metadata": {},
     "output_type": "execute_result"
    }
   ],
   "source": [
    "# This will convert 200 minutes to hours by dividing by 60\n",
    "minutes = 200\n",
    "hours = minutes / 60\n",
    "hours\n"
   ]
  },
  {
   "cell_type": "markdown",
   "id": "5e1efed2-1473-4cfc-a499-d553641848a8",
   "metadata": {},
   "source": [
    "**Objectives:**\n",
    "\n",
    "- List popular languages for Data Science.\n",
    "- List popular libraries used for Data Science.\n",
    "- Create a code cell to convert minutes to hours.\n",
    "- Create a table of Data Science tools.\n",
    "- Provide an introduction to arithmetic expressions.\n"
   ]
  },
  {
   "cell_type": "markdown",
   "id": "bc108c8b-82fb-4ac5-8591-952e97dc0810",
   "metadata": {},
   "source": [
    "## Author\n",
    "Bui Thi Tu Anh\n"
   ]
  },
  {
   "cell_type": "code",
   "execution_count": null,
   "id": "e0ce4825-4f60-453d-a5a2-f411830f6d44",
   "metadata": {},
   "outputs": [],
   "source": []
  }
 ],
 "metadata": {
  "kernelspec": {
   "display_name": "Python 3 (ipykernel)",
   "language": "python",
   "name": "python3"
  },
  "language_info": {
   "codemirror_mode": {
    "name": "ipython",
    "version": 3
   },
   "file_extension": ".py",
   "mimetype": "text/x-python",
   "name": "python",
   "nbconvert_exporter": "python",
   "pygments_lexer": "ipython3",
   "version": "3.12.4"
  }
 },
 "nbformat": 4,
 "nbformat_minor": 5
}
